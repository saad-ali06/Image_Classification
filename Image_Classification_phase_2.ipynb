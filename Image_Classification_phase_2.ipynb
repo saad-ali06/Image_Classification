{
  "nbformat": 4,
  "nbformat_minor": 0,
  "metadata": {
    "colab": {
      "provenance": []
    },
    "kernelspec": {
      "name": "python3",
      "display_name": "Python 3"
    },
    "language_info": {
      "name": "python"
    },
    "accelerator": "TPU"
  },
  "cells": [
    {
      "cell_type": "code",
      "execution_count": 3,
      "metadata": {
        "id": "0Qz43uEujXMB"
      },
      "outputs": [],
      "source": [
        "import numpy as np\n",
        "import tensorflow as tf\n",
        "from tensorflow import keras\n",
        "import pandas as pd\n",
        "import os\n",
        "from sklearn.model_selection import train_test_split\n",
        "import cv2"
      ]
    },
    {
      "cell_type": "code",
      "source": [
        "from google.colab import drive\n",
        "drive.mount('/content/drive')"
      ],
      "metadata": {
        "id": "M0FQq4_XpsnS"
      },
      "execution_count": null,
      "outputs": []
    },
    {
      "cell_type": "code",
      "source": [
        "def load_and_resize_images_from_folder(folder, target_size):\n",
        "    images = []\n",
        "    for filename in os.listdir(folder):\n",
        "        img = cv2.imread(os.path.join(folder, filename))\n",
        "        if img is not None:\n",
        "            img = cv2.resize(img, target_size)\n",
        "            images.append(img)\n",
        "    return np.array(images)\n",
        "\n",
        "# Specify your image folder, target size, and batch size\n",
        "image_folder = '/content/drive/MyDrive/REX Technologies/img_align_celeba'\n",
        "target_size = (64, 64)\n",
        "\n",
        "# Load and resize all images\n",
        "X = load_and_resize_images_from_folder(image_folder, target_size)\n",
        "\n",
        "# Normalize pixel values to the range [0, 1]\n",
        "X = X / 255.0\n",
        "\n",
        "label = pd.read_csv(\"/content/drive/MyDrive/REX Technologies/list_attr_celeba.csv\")\n",
        "y = np.array(label['Male'])\n",
        "from sklearn.preprocessing import OneHotEncoder\n",
        "encoder_y = OneHotEncoder()\n",
        "y = encoder_y.fit_transform(y.reshape(-1,1)).toarray()\n",
        "y = y[0:5000,]"
      ],
      "metadata": {
        "id": "IrRO1igJpYfQ"
      },
      "execution_count": 4,
      "outputs": []
    },
    {
      "cell_type": "code",
      "source": [
        "# Split the data into training and testing sets\n",
        "X_train, X_test, y_train, y_test = train_test_split(X, y, test_size=0.2, random_state=42)"
      ],
      "metadata": {
        "id": "ivcJVRSBpYb0"
      },
      "execution_count": 5,
      "outputs": []
    },
    {
      "cell_type": "code",
      "source": [
        "from sklearn.metrics import classification_report, confusion_matrix\n",
        "# Create a neural network model\n",
        "model = keras.Sequential([\n",
        "    keras.layers.Flatten(input_shape=(64, 64, 3)),  # Input layer for resized images\n",
        "    keras.layers.Dense(256, activation='relu'),           # Hidden layer with 256 units and ReLU activation\n",
        "    keras.layers.Dense(128, activation='relu'),           # Hidden layer with 128 units and ReLU activation\n",
        "    keras.layers.Dense(64, activation='relu'),            # Hidden layer with 64 units and ReLU activation\n",
        "    keras.layers.Dense(2, activation='softmax')           # Output layer with 2 unit and sigmoid activation\n",
        "])\n",
        "\n",
        "# Compile the model\n",
        "model.compile(optimizer=keras.optimizers.Adam(learning_rate=0.0001),\n",
        "              loss='categorical_crossentropy',\n",
        "              metrics=['accuracy'])\n",
        "\n",
        "# Train the model with batch learning\n",
        "batch_size = 32\n",
        "epochs = 50  # Adjust the number of epochs as needed\n",
        "\n",
        "model.fit(X_train, y_train, batch_size=batch_size, epochs=epochs, validation_split=0.2)\n",
        "\n",
        "# Evaluate the model on the test set\n",
        "test_loss, test_accuracy = model.evaluate(X_test, y_test)\n",
        "\n",
        "# Print the test accuracy\n",
        "print(f\"Test Accuracy: {test_accuracy}\")\n",
        "\n",
        "# Make predictions on the test set\n",
        "y_pred = model.predict(X_test)\n",
        "y_pred_classes = np.argmax(y_pred, axis=1)\n",
        "\n",
        "# Calculate additional evaluation metrics\n",
        "print(\"Classification Report:\")\n",
        "print(classification_report(y_test.argmax(axis=1), y_pred_classes))\n",
        "\n",
        "print(\"Confusion Matrix:\")\n",
        "print(confusion_matrix(y_test.argmax(axis=1), y_pred_classes))\n"
      ],
      "metadata": {
        "colab": {
          "base_uri": "https://localhost:8080/"
        },
        "id": "5KRL-DFEpYZ4",
        "outputId": "f23ef8a3-a3b6-4c55-b425-6822ef8157f9"
      },
      "execution_count": 7,
      "outputs": [
        {
          "output_type": "stream",
          "name": "stdout",
          "text": [
            "Epoch 1/50\n",
            "100/100 [==============================] - 6s 48ms/step - loss: 0.7047 - accuracy: 0.5472 - val_loss: 0.6765 - val_accuracy: 0.5913\n",
            "Epoch 2/50\n",
            "100/100 [==============================] - 7s 68ms/step - loss: 0.6853 - accuracy: 0.5678 - val_loss: 0.6778 - val_accuracy: 0.5975\n",
            "Epoch 3/50\n",
            "100/100 [==============================] - 6s 60ms/step - loss: 0.6896 - accuracy: 0.5578 - val_loss: 0.6813 - val_accuracy: 0.5950\n",
            "Epoch 4/50\n",
            "100/100 [==============================] - 4s 41ms/step - loss: 0.6858 - accuracy: 0.5669 - val_loss: 0.6849 - val_accuracy: 0.5675\n",
            "Epoch 5/50\n",
            "100/100 [==============================] - 5s 53ms/step - loss: 0.6853 - accuracy: 0.5644 - val_loss: 0.7034 - val_accuracy: 0.5962\n",
            "Epoch 6/50\n",
            "100/100 [==============================] - 7s 68ms/step - loss: 0.6833 - accuracy: 0.5731 - val_loss: 0.7283 - val_accuracy: 0.4038\n",
            "Epoch 7/50\n",
            "100/100 [==============================] - 5s 50ms/step - loss: 0.6809 - accuracy: 0.5741 - val_loss: 0.6844 - val_accuracy: 0.5638\n",
            "Epoch 8/50\n",
            "100/100 [==============================] - 4s 42ms/step - loss: 0.6787 - accuracy: 0.5806 - val_loss: 0.6801 - val_accuracy: 0.5875\n",
            "Epoch 9/50\n",
            "100/100 [==============================] - 5s 50ms/step - loss: 0.6756 - accuracy: 0.5763 - val_loss: 0.6829 - val_accuracy: 0.5825\n",
            "Epoch 10/50\n",
            "100/100 [==============================] - 7s 69ms/step - loss: 0.6728 - accuracy: 0.5872 - val_loss: 0.6823 - val_accuracy: 0.5775\n",
            "Epoch 11/50\n",
            "100/100 [==============================] - 5s 47ms/step - loss: 0.6748 - accuracy: 0.5841 - val_loss: 0.6901 - val_accuracy: 0.5950\n",
            "Epoch 12/50\n",
            "100/100 [==============================] - 4s 44ms/step - loss: 0.6616 - accuracy: 0.5931 - val_loss: 0.6905 - val_accuracy: 0.5425\n",
            "Epoch 13/50\n",
            "100/100 [==============================] - 7s 71ms/step - loss: 0.6619 - accuracy: 0.6006 - val_loss: 0.7298 - val_accuracy: 0.4350\n",
            "Epoch 14/50\n",
            "100/100 [==============================] - 5s 54ms/step - loss: 0.6522 - accuracy: 0.6131 - val_loss: 0.6928 - val_accuracy: 0.5713\n",
            "Epoch 15/50\n",
            "100/100 [==============================] - 4s 44ms/step - loss: 0.6557 - accuracy: 0.6059 - val_loss: 0.6928 - val_accuracy: 0.5875\n",
            "Epoch 16/50\n",
            "100/100 [==============================] - 6s 55ms/step - loss: 0.6492 - accuracy: 0.6106 - val_loss: 0.7536 - val_accuracy: 0.5975\n",
            "Epoch 17/50\n",
            "100/100 [==============================] - 7s 69ms/step - loss: 0.6513 - accuracy: 0.6144 - val_loss: 0.6971 - val_accuracy: 0.5537\n",
            "Epoch 18/50\n",
            "100/100 [==============================] - 5s 53ms/step - loss: 0.6421 - accuracy: 0.6247 - val_loss: 0.7430 - val_accuracy: 0.4650\n",
            "Epoch 19/50\n",
            "100/100 [==============================] - 5s 45ms/step - loss: 0.6325 - accuracy: 0.6288 - val_loss: 0.7052 - val_accuracy: 0.5650\n",
            "Epoch 20/50\n",
            "100/100 [==============================] - 6s 64ms/step - loss: 0.6181 - accuracy: 0.6522 - val_loss: 0.7053 - val_accuracy: 0.5813\n",
            "Epoch 21/50\n",
            "100/100 [==============================] - 5s 53ms/step - loss: 0.6218 - accuracy: 0.6478 - val_loss: 0.7036 - val_accuracy: 0.5312\n",
            "Epoch 22/50\n",
            "100/100 [==============================] - 4s 42ms/step - loss: 0.6205 - accuracy: 0.6447 - val_loss: 0.7090 - val_accuracy: 0.5163\n",
            "Epoch 23/50\n",
            "100/100 [==============================] - 5s 48ms/step - loss: 0.6015 - accuracy: 0.6587 - val_loss: 0.7254 - val_accuracy: 0.5475\n",
            "Epoch 24/50\n",
            "100/100 [==============================] - 7s 66ms/step - loss: 0.5950 - accuracy: 0.6666 - val_loss: 0.7230 - val_accuracy: 0.5638\n",
            "Epoch 25/50\n",
            "100/100 [==============================] - 5s 53ms/step - loss: 0.5752 - accuracy: 0.6938 - val_loss: 0.7336 - val_accuracy: 0.5362\n",
            "Epoch 26/50\n",
            "100/100 [==============================] - 5s 45ms/step - loss: 0.5818 - accuracy: 0.6787 - val_loss: 0.7243 - val_accuracy: 0.5650\n",
            "Epoch 27/50\n",
            "100/100 [==============================] - 5s 51ms/step - loss: 0.5776 - accuracy: 0.6875 - val_loss: 0.7431 - val_accuracy: 0.5763\n",
            "Epoch 28/50\n",
            "100/100 [==============================] - 7s 71ms/step - loss: 0.5553 - accuracy: 0.7000 - val_loss: 0.7427 - val_accuracy: 0.5800\n",
            "Epoch 29/50\n",
            "100/100 [==============================] - 4s 42ms/step - loss: 0.5416 - accuracy: 0.7178 - val_loss: 0.8038 - val_accuracy: 0.4888\n",
            "Epoch 30/50\n",
            "100/100 [==============================] - 4s 44ms/step - loss: 0.5294 - accuracy: 0.7259 - val_loss: 0.8420 - val_accuracy: 0.5913\n",
            "Epoch 31/50\n",
            "100/100 [==============================] - 6s 59ms/step - loss: 0.5261 - accuracy: 0.7219 - val_loss: 0.7843 - val_accuracy: 0.5525\n",
            "Epoch 32/50\n",
            "100/100 [==============================] - 6s 60ms/step - loss: 0.5150 - accuracy: 0.7312 - val_loss: 0.8015 - val_accuracy: 0.5437\n",
            "Epoch 33/50\n",
            "100/100 [==============================] - 4s 40ms/step - loss: 0.5207 - accuracy: 0.7241 - val_loss: 0.7807 - val_accuracy: 0.5738\n",
            "Epoch 34/50\n",
            "100/100 [==============================] - 5s 55ms/step - loss: 0.5272 - accuracy: 0.7219 - val_loss: 0.8220 - val_accuracy: 0.5013\n",
            "Epoch 35/50\n",
            "100/100 [==============================] - 7s 66ms/step - loss: 0.4807 - accuracy: 0.7569 - val_loss: 0.8235 - val_accuracy: 0.5512\n",
            "Epoch 36/50\n",
            "100/100 [==============================] - 5s 50ms/step - loss: 0.4603 - accuracy: 0.7759 - val_loss: 0.8477 - val_accuracy: 0.5562\n",
            "Epoch 37/50\n",
            "100/100 [==============================] - 5s 51ms/step - loss: 0.4665 - accuracy: 0.7703 - val_loss: 0.8385 - val_accuracy: 0.5462\n",
            "Epoch 38/50\n",
            "100/100 [==============================] - 8s 83ms/step - loss: 0.4647 - accuracy: 0.7719 - val_loss: 0.8677 - val_accuracy: 0.4950\n",
            "Epoch 39/50\n",
            "100/100 [==============================] - 6s 63ms/step - loss: 0.4572 - accuracy: 0.7806 - val_loss: 0.8615 - val_accuracy: 0.5362\n",
            "Epoch 40/50\n",
            "100/100 [==============================] - 4s 42ms/step - loss: 0.4340 - accuracy: 0.7891 - val_loss: 0.8650 - val_accuracy: 0.5175\n",
            "Epoch 41/50\n",
            "100/100 [==============================] - 6s 56ms/step - loss: 0.4249 - accuracy: 0.7928 - val_loss: 0.8957 - val_accuracy: 0.5300\n",
            "Epoch 42/50\n",
            "100/100 [==============================] - 6s 64ms/step - loss: 0.4074 - accuracy: 0.8062 - val_loss: 0.8909 - val_accuracy: 0.5288\n",
            "Epoch 43/50\n",
            "100/100 [==============================] - 4s 44ms/step - loss: 0.4020 - accuracy: 0.8112 - val_loss: 0.9835 - val_accuracy: 0.5025\n",
            "Epoch 44/50\n",
            "100/100 [==============================] - 4s 42ms/step - loss: 0.3860 - accuracy: 0.8191 - val_loss: 0.9311 - val_accuracy: 0.5575\n",
            "Epoch 45/50\n",
            "100/100 [==============================] - 6s 64ms/step - loss: 0.3756 - accuracy: 0.8266 - val_loss: 0.9352 - val_accuracy: 0.5462\n",
            "Epoch 46/50\n",
            "100/100 [==============================] - 6s 64ms/step - loss: 0.3752 - accuracy: 0.8247 - val_loss: 0.9581 - val_accuracy: 0.5213\n",
            "Epoch 47/50\n",
            "100/100 [==============================] - 4s 42ms/step - loss: 0.3598 - accuracy: 0.8331 - val_loss: 1.0146 - val_accuracy: 0.5163\n",
            "Epoch 48/50\n",
            "100/100 [==============================] - 6s 60ms/step - loss: 0.3615 - accuracy: 0.8347 - val_loss: 1.0264 - val_accuracy: 0.4963\n",
            "Epoch 49/50\n",
            "100/100 [==============================] - 7s 68ms/step - loss: 0.3524 - accuracy: 0.8397 - val_loss: 1.1545 - val_accuracy: 0.5663\n",
            "Epoch 50/50\n",
            "100/100 [==============================] - 5s 50ms/step - loss: 0.3363 - accuracy: 0.8491 - val_loss: 1.0053 - val_accuracy: 0.5425\n",
            "32/32 [==============================] - 1s 12ms/step - loss: 1.0835 - accuracy: 0.5190\n",
            "Test Accuracy: 0.5189999938011169\n",
            "32/32 [==============================] - 1s 12ms/step\n",
            "Classification Report:\n",
            "              precision    recall  f1-score   support\n",
            "\n",
            "           0       0.59      0.60      0.59       591\n",
            "           1       0.41      0.41      0.41       409\n",
            "\n",
            "    accuracy                           0.52      1000\n",
            "   macro avg       0.50      0.50      0.50      1000\n",
            "weighted avg       0.52      0.52      0.52      1000\n",
            "\n",
            "Confusion Matrix:\n",
            "[[352 239]\n",
            " [242 167]]\n"
          ]
        }
      ]
    },
    {
      "cell_type": "code",
      "source": [],
      "metadata": {
        "id": "9dI47V9tpYWC"
      },
      "execution_count": null,
      "outputs": []
    },
    {
      "cell_type": "code",
      "source": [],
      "metadata": {
        "id": "GE_Xwos5pYUX"
      },
      "execution_count": null,
      "outputs": []
    },
    {
      "cell_type": "code",
      "source": [],
      "metadata": {
        "id": "KPKEb5MCpYAx"
      },
      "execution_count": null,
      "outputs": []
    }
  ]
}