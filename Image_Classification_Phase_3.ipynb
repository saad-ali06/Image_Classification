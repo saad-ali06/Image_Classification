{
  "nbformat": 4,
  "nbformat_minor": 0,
  "metadata": {
    "colab": {
      "provenance": []
    },
    "kernelspec": {
      "name": "python3",
      "display_name": "Python 3"
    },
    "language_info": {
      "name": "python"
    },
    "accelerator": "TPU"
  },
  "cells": [
    {
      "cell_type": "code",
      "source": [
        "import tensorflow as tf\n",
        "import pandas as pd\n",
        "import numpy as np\n",
        "from tensorflow.keras.preprocessing.image import ImageDataGenerator\n",
        "from sklearn.model_selection import train_test_split\n",
        "from sklearn.metrics import accuracy_score, f1_score, recall_score, confusion_matrix\n",
        "import matplotlib.pyplot as plt"
      ],
      "metadata": {
        "id": "lUKA1cMYJFzj"
      },
      "execution_count": 1,
      "outputs": []
    },
    {
      "cell_type": "code",
      "source": [
        "# Load and preprocess images using the data generator\n",
        "image_folder = '/content/drive/MyDrive/REX Technologies/img_align_celeba'\n",
        "# Load the CSV file with image labels (-1 for female, 1 for male)\n",
        "label_file_path = '/content/drive/MyDrive/REX Technologies/list_attr_celeba.csv'  # Replace with the path to your CSV file\n",
        "df = pd.read_csv(label_file_path)\n",
        "df = df.iloc[0:5000,]\n",
        "df['img_path'] = \"/content/drive/MyDrive/REX Technologies/img_align_celeba/\" + df[\"image_id\"]"
      ],
      "metadata": {
        "id": "TdLhy0puJwpS"
      },
      "execution_count": 3,
      "outputs": []
    },
    {
      "cell_type": "code",
      "source": [
        "df['img_path']"
      ],
      "metadata": {
        "colab": {
          "base_uri": "https://localhost:8080/"
        },
        "id": "2nIfDU3zJzOL",
        "outputId": "1a5f4dcf-8ca6-4ff5-f939-6488ceb9c588"
      },
      "execution_count": 4,
      "outputs": [
        {
          "output_type": "execute_result",
          "data": {
            "text/plain": [
              "0       /content/drive/MyDrive/REX Technologies/img_al...\n",
              "1       /content/drive/MyDrive/REX Technologies/img_al...\n",
              "2       /content/drive/MyDrive/REX Technologies/img_al...\n",
              "3       /content/drive/MyDrive/REX Technologies/img_al...\n",
              "4       /content/drive/MyDrive/REX Technologies/img_al...\n",
              "                              ...                        \n",
              "4995    /content/drive/MyDrive/REX Technologies/img_al...\n",
              "4996    /content/drive/MyDrive/REX Technologies/img_al...\n",
              "4997    /content/drive/MyDrive/REX Technologies/img_al...\n",
              "4998    /content/drive/MyDrive/REX Technologies/img_al...\n",
              "4999    /content/drive/MyDrive/REX Technologies/img_al...\n",
              "Name: img_path, Length: 5000, dtype: object"
            ]
          },
          "metadata": {},
          "execution_count": 4
        }
      ]
    },
    {
      "cell_type": "code",
      "source": [
        "# Define image and batch parameters\n",
        "image_size = (64, 64)\n",
        "batch_size = 32\n",
        "\n",
        "# Split data into training (60%), validation (20%), and test (20%) sets\n",
        "train_df, test_df = train_test_split(df, test_size=0.2, random_state=42)\n",
        "train_df, validation_df = train_test_split(train_df, test_size=0.25, random_state=42)\n",
        "\n",
        "# Convert integer labels to strings\n",
        "train_df['Male'] = train_df['Male'].astype(str)\n",
        "validation_df['Male'] = validation_df['Male'].astype(str)\n",
        "test_df['Male'] = test_df['Male'].astype(str)\n",
        "\n",
        "# Create data generator for image loading and resizing\n",
        "datagen = ImageDataGenerator(\n",
        "    rescale=1.0 / 255.0,\n",
        ")\n",
        "\n",
        "\n",
        "train_generator = datagen.flow_from_dataframe(\n",
        "    dataframe=train_df,\n",
        "    directory=image_folder,\n",
        "    x_col='img_path',\n",
        "    y_col='Male',\n",
        "    target_size=image_size,\n",
        "    batch_size=batch_size,\n",
        "    class_mode='binary',\n",
        ")\n",
        "\n",
        "validation_generator = datagen.flow_from_dataframe(\n",
        "    dataframe=validation_df,\n",
        "    directory=image_folder,\n",
        "    x_col='img_path',\n",
        "    y_col='Male',\n",
        "    target_size=image_size,\n",
        "    batch_size=batch_size,\n",
        "    class_mode='binary',\n",
        ")\n",
        "\n",
        "test_generator = datagen.flow_from_dataframe(\n",
        "    dataframe=test_df,\n",
        "    directory=image_folder,\n",
        "    x_col='img_path',\n",
        "    y_col='Male',\n",
        "    target_size=image_size,\n",
        "    batch_size=batch_size,\n",
        "    class_mode='binary',\n",
        "    shuffle=False,\n",
        ")"
      ],
      "metadata": {
        "colab": {
          "base_uri": "https://localhost:8080/"
        },
        "id": "fp_8Qb8bJnxr",
        "outputId": "703d6fc0-2fde-4493-ae1e-e5a1fa92a0f4"
      },
      "execution_count": 8,
      "outputs": [
        {
          "output_type": "stream",
          "name": "stdout",
          "text": [
            "Found 3000 validated image filenames belonging to 2 classes.\n",
            "Found 1000 validated image filenames belonging to 2 classes.\n",
            "Found 1000 validated image filenames belonging to 2 classes.\n"
          ]
        }
      ]
    },
    {
      "cell_type": "code",
      "source": [
        "# Define the CNN model\n",
        "model = tf.keras.Sequential([\n",
        "    tf.keras.layers.Conv2D(32, (3, 3), activation='relu', input_shape=(64, 64, 3)),\n",
        "    tf.keras.layers.MaxPooling2D(2, 2),\n",
        "    tf.keras.layers.Conv2D(64, (3, 3), activation='relu'),\n",
        "    tf.keras.layers.MaxPooling2D(2, 2),\n",
        "    tf.keras.layers.Flatten(),\n",
        "    tf.keras.layers.Dense(128, activation='relu'),\n",
        "    tf.keras.layers.Dense(64, activation='relu'),\n",
        "    tf.keras.layers.Dense(32, activation='relu'),\n",
        "    tf.keras.layers.Dense(10, activation='relu'),\n",
        "    tf.keras.layers.Dense(1, activation='sigmoid')\n",
        "])\n",
        "\n",
        "# Compile the model\n",
        "model.compile(optimizer='adam', loss='binary_crossentropy', metrics=['accuracy'])"
      ],
      "metadata": {
        "id": "CEOJCczCJ6P_"
      },
      "execution_count": 9,
      "outputs": []
    },
    {
      "cell_type": "code",
      "execution_count": 10,
      "metadata": {
        "colab": {
          "base_uri": "https://localhost:8080/"
        },
        "id": "RFthNmb6-4pU",
        "outputId": "8c05aca8-9c45-4a5b-9d01-58084f3e5d3a"
      },
      "outputs": [
        {
          "output_type": "stream",
          "name": "stdout",
          "text": [
            "Epoch 1/10\n",
            "94/94 [==============================] - 908s 10s/step - loss: 0.5744 - accuracy: 0.6950 - val_loss: 0.4587 - val_accuracy: 0.8020\n",
            "Epoch 2/10\n",
            "94/94 [==============================] - 29s 306ms/step - loss: 0.3431 - accuracy: 0.8520 - val_loss: 0.2891 - val_accuracy: 0.8720\n",
            "Epoch 3/10\n",
            "94/94 [==============================] - 33s 350ms/step - loss: 0.2123 - accuracy: 0.9143 - val_loss: 0.2464 - val_accuracy: 0.9020\n",
            "Epoch 4/10\n",
            "94/94 [==============================] - 31s 333ms/step - loss: 0.1551 - accuracy: 0.9460 - val_loss: 0.2293 - val_accuracy: 0.9100\n",
            "Epoch 5/10\n",
            "94/94 [==============================] - 32s 341ms/step - loss: 0.1188 - accuracy: 0.9550 - val_loss: 0.2127 - val_accuracy: 0.9220\n",
            "Epoch 6/10\n",
            "94/94 [==============================] - 32s 342ms/step - loss: 0.0948 - accuracy: 0.9640 - val_loss: 0.2133 - val_accuracy: 0.9180\n",
            "Epoch 7/10\n",
            "94/94 [==============================] - 39s 419ms/step - loss: 0.0626 - accuracy: 0.9803 - val_loss: 0.3682 - val_accuracy: 0.8970\n",
            "Epoch 8/10\n",
            "94/94 [==============================] - 32s 342ms/step - loss: 0.0575 - accuracy: 0.9807 - val_loss: 0.3563 - val_accuracy: 0.8930\n",
            "Epoch 9/10\n",
            "94/94 [==============================] - 33s 350ms/step - loss: 0.0350 - accuracy: 0.9870 - val_loss: 0.2959 - val_accuracy: 0.9280\n",
            "Epoch 10/10\n",
            "94/94 [==============================] - 31s 329ms/step - loss: 0.0319 - accuracy: 0.9907 - val_loss: 0.3664 - val_accuracy: 0.9200\n",
            "32/32 [==============================] - 210s 7s/step\n"
          ]
        }
      ],
      "source": [
        "# Train the model\n",
        "epochs = 10\n",
        "history = model.fit(\n",
        "    train_generator,\n",
        "    validation_data=validation_generator,\n",
        "    epochs=epochs,\n",
        "    verbose=1\n",
        ")\n",
        "model.save(\"/content/drive/MyDrive/REX Technologies/CNN_model_save/gender_classification_cnn_model_1.h5\")\n",
        "# Evaluate the model on the test set\n",
        "y_true = test_generator.classes\n",
        "y_pred = (model.predict(test_generator) > 0.5).astype(\"int32\")"
      ]
    },
    {
      "cell_type": "code",
      "source": [
        "# Calculate evaluation metrics\n",
        "accuracy = accuracy_score(y_true, y_pred)\n",
        "f1 = f1_score(y_true, y_pred)\n",
        "recall = recall_score(y_true, y_pred)\n",
        "confusion = confusion_matrix(y_true, y_pred)\n",
        "\n",
        "# Print evaluation metrics\n",
        "print(f\"Accuracy: {accuracy:.2f}\")\n",
        "print(f\"F1 Score: {f1:.2f}\")\n",
        "print(f\"Recall: {recall:.2f}\")\n",
        "print(\"Confusion Matrix:\")\n",
        "print(confusion)\n",
        "\n",
        "# Plot confusion matrix\n",
        "plt.figure(figsize=(8, 6))\n",
        "plt.imshow(confusion, cmap=plt.cm.Blues)\n",
        "plt.title(\"Confusion Matrix\")\n",
        "plt.colorbar()\n",
        "plt.xlabel(\"Predicted Labels\")\n",
        "plt.ylabel(\"True Labels\")\n",
        "plt.xticks([0, 1], ['Female', 'Male'])\n",
        "plt.yticks([0, 1], ['Female', 'Male'])\n",
        "for i in range(2):\n",
        "    for j in range(2):\n",
        "        plt.text(j, i, str(confusion[i, j]), ha='center', va='center', color='red', fontsize=18)\n",
        "plt.show()"
      ],
      "metadata": {
        "colab": {
          "base_uri": "https://localhost:8080/",
          "height": 668
        },
        "id": "b_nR5atdKFLU",
        "outputId": "93926e51-09cd-43c6-f346-d5eeca3eb442"
      },
      "execution_count": 11,
      "outputs": [
        {
          "output_type": "stream",
          "name": "stdout",
          "text": [
            "Accuracy: 0.93\n",
            "F1 Score: 0.91\n",
            "Recall: 0.89\n",
            "Confusion Matrix:\n",
            "[[564  27]\n",
            " [ 44 365]]\n"
          ]
        },
        {
          "output_type": "display_data",
          "data": {
            "text/plain": [
              "<Figure size 800x600 with 2 Axes>"
            ],
            "image/png": "[encoded data removed]"
          },
          "metadata": {}
        }
      ]
    }
  ]
}