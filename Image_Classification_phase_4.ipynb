{
  "nbformat": 4,
  "nbformat_minor": 0,
  "metadata": {
    "colab": {
      "provenance": [],
      "gpuType": "T4"
    },
    "kernelspec": {
      "name": "python3",
      "display_name": "Python 3"
    },
    "language_info": {
      "name": "python"
    },
    "accelerator": "GPU"
  },
  "cells": [
    {
      "cell_type": "code",
      "execution_count": 1,
      "metadata": {
        "id": "FdKWkC3dLx4A"
      },
      "outputs": [],
      "source": [
        "import tensorflow as tf\n",
        "import pandas as pd\n",
        "import numpy as np\n",
        "from tensorflow.keras.preprocessing.image import ImageDataGenerator\n",
        "from sklearn.model_selection import train_test_split\n",
        "from sklearn.metrics import accuracy_score, f1_score, recall_score, confusion_matrix\n",
        "import matplotlib.pyplot as plt\n",
        "from tensorflow.keras.applications import VGG16"
      ]
    },
    {
      "cell_type": "code",
      "source": [
        "# Load and preprocess images using the data generator\n",
        "image_folder = '/content/drive/MyDrive/REX Technologies/img_align_celeba'\n",
        "# Load the CSV file with image labels (-1 for female, 1 for male)\n",
        "label_file_path = '/content/drive/MyDrive/REX Technologies/list_attr_celeba.csv'  # Replace with the path to your CSV file\n",
        "df = pd.read_csv(label_file_path)\n",
        "df = df.iloc[0:5000,]\n",
        "df['img_path'] = \"/content/drive/MyDrive/REX Technologies/img_align_celeba/\" + df[\"image_id\"]"
      ],
      "metadata": {
        "id": "o2-V9fYDMCtK"
      },
      "execution_count": 2,
      "outputs": []
    },
    {
      "cell_type": "code",
      "source": [
        "# Define image and batch parameters\n",
        "image_size = (64, 64)\n",
        "batch_size = 32\n",
        "\n",
        "# Split data into training (60%), validation (20%), and test (20%) sets\n",
        "train_df, test_df = train_test_split(df, test_size=0.2, random_state=42)\n",
        "train_df, validation_df = train_test_split(train_df, test_size=0.25, random_state=42)\n",
        "\n",
        "# Convert integer labels to strings\n",
        "train_df['Male'] = train_df['Male'].astype(str)\n",
        "validation_df['Male'] = validation_df['Male'].astype(str)\n",
        "test_df['Male'] = test_df['Male'].astype(str)\n",
        "\n",
        "# Create data generator for image loading and resizing\n",
        "datagen = ImageDataGenerator(\n",
        "    rescale=1.0 / 255.0,\n",
        ")\n",
        "\n",
        "\n",
        "train_generator = datagen.flow_from_dataframe(\n",
        "    dataframe=train_df,\n",
        "    directory=image_folder,\n",
        "    x_col='img_path',\n",
        "    y_col='Male',\n",
        "    target_size=image_size,\n",
        "    batch_size=batch_size,\n",
        "    class_mode='binary',\n",
        ")\n",
        "\n",
        "validation_generator = datagen.flow_from_dataframe(\n",
        "    dataframe=validation_df,\n",
        "    directory=image_folder,\n",
        "    x_col='img_path',\n",
        "    y_col='Male',\n",
        "    target_size=image_size,\n",
        "    batch_size=batch_size,\n",
        "    class_mode='binary',\n",
        ")\n",
        "\n",
        "test_generator = datagen.flow_from_dataframe(\n",
        "    dataframe=test_df,\n",
        "    directory=image_folder,\n",
        "    x_col='img_path',\n",
        "    y_col='Male',\n",
        "    target_size=image_size,\n",
        "    batch_size=batch_size,\n",
        "    class_mode='binary',\n",
        "    shuffle=False,\n",
        ")"
      ],
      "metadata": {
        "colab": {
          "base_uri": "https://localhost:8080/"
        },
        "id": "Pd1Okl1_MCpL",
        "outputId": "938e121c-9b51-49f3-ecba-f9661e51581e"
      },
      "execution_count": 3,
      "outputs": [
        {
          "output_type": "stream",
          "name": "stdout",
          "text": [
            "Found 3000 validated image filenames belonging to 2 classes.\n",
            "Found 1000 validated image filenames belonging to 2 classes.\n",
            "Found 1000 validated image filenames belonging to 2 classes.\n"
          ]
        }
      ]
    },
    {
      "cell_type": "code",
      "source": [
        "vgg16_base = VGG16(weights='imagenet', include_top=False, input_shape=(64, 64, 3))"
      ],
      "metadata": {
        "colab": {
          "base_uri": "https://localhost:8080/"
        },
        "id": "E2FDQg4RMCnt",
        "outputId": "ea565717-0a1f-4c1d-a6d6-ea26f7d107df"
      },
      "execution_count": 4,
      "outputs": [
        {
          "output_type": "stream",
          "name": "stdout",
          "text": [
            "Downloading data from https://storage.googleapis.com/tensorflow/keras-applications/vgg16/vgg16_weights_tf_dim_ordering_tf_kernels_notop.h5\n",
            "58889256/58889256 [==============================] - 0s 0us/step\n"
          ]
        }
      ]
    },
    {
      "cell_type": "code",
      "source": [
        "# Freeze the layers of the pretrained model\n",
        "for layer in vgg16_base.layers:\n",
        "    layer.trainable = False"
      ],
      "metadata": {
        "id": "KNn7F3ppMCji"
      },
      "execution_count": 5,
      "outputs": []
    },
    {
      "cell_type": "code",
      "source": [
        "from tensorflow.keras.layers import Flatten, Dense\n",
        "from tensorflow.keras.models import Model\n",
        "model_vgg16 = tf.keras.Sequential([\n",
        "    vgg16_base,\n",
        "    Flatten(),\n",
        "    tf.keras.layers.Dense(128, activation='relu'),\n",
        "    tf.keras.layers.Dense(64, activation='relu'),\n",
        "    tf.keras.layers.Dense(32, activation='relu'),\n",
        "    tf.keras.layers.Dense(10, activation='relu'),\n",
        "    tf.keras.layers.Dense(1, activation='sigmoid')\n",
        "])\n",
        "# Compile the VGG16-based model\n",
        "model_vgg16.compile(optimizer='adam', loss='binary_crossentropy', metrics=['accuracy'])"
      ],
      "metadata": {
        "id": "4Dvirhi-MCiB"
      },
      "execution_count": 8,
      "outputs": []
    },
    {
      "cell_type": "code",
      "source": [
        "# Train the VGG16-based model\n",
        "epochs_vgg16 = 20\n",
        "history_vgg16 = model_vgg16.fit(\n",
        "    train_generator,\n",
        "    validation_data=validation_generator,\n",
        "    epochs=epochs_vgg16,\n",
        "    verbose=1\n",
        ")\n",
        "model_vgg16.save(\"/content/drive/MyDrive/REX Technologies/CNN_model_save/gender_classification_fine_tune_vgg16_model_1.h5\")"
      ],
      "metadata": {
        "colab": {
          "base_uri": "https://localhost:8080/"
        },
        "id": "GMXAWGVAMCeK",
        "outputId": "abfd4491-62fc-4bb4-9563-ccdcd82174d2"
      },
      "execution_count": 11,
      "outputs": [
        {
          "output_type": "stream",
          "name": "stdout",
          "text": [
            "Epoch 1/20\n",
            "94/94 [==============================] - 8s 88ms/step - loss: 0.1054 - accuracy: 0.9573 - val_loss: 0.4872 - val_accuracy: 0.8700\n",
            "Epoch 2/20\n",
            "94/94 [==============================] - 8s 85ms/step - loss: 0.0790 - accuracy: 0.9687 - val_loss: 0.4349 - val_accuracy: 0.8620\n",
            "Epoch 3/20\n",
            "94/94 [==============================] - 8s 82ms/step - loss: 0.0811 - accuracy: 0.9677 - val_loss: 0.5893 - val_accuracy: 0.8460\n",
            "Epoch 4/20\n",
            "94/94 [==============================] - 8s 88ms/step - loss: 0.0602 - accuracy: 0.9800 - val_loss: 0.5407 - val_accuracy: 0.8610\n",
            "Epoch 5/20\n",
            "94/94 [==============================] - 8s 83ms/step - loss: 0.0486 - accuracy: 0.9810 - val_loss: 0.7032 - val_accuracy: 0.8590\n",
            "Epoch 6/20\n",
            "94/94 [==============================] - 8s 89ms/step - loss: 0.0306 - accuracy: 0.9887 - val_loss: 0.7742 - val_accuracy: 0.8600\n",
            "Epoch 7/20\n",
            "94/94 [==============================] - 8s 85ms/step - loss: 0.0291 - accuracy: 0.9883 - val_loss: 0.6343 - val_accuracy: 0.8530\n",
            "Epoch 8/20\n",
            "94/94 [==============================] - 8s 85ms/step - loss: 0.0369 - accuracy: 0.9887 - val_loss: 0.7049 - val_accuracy: 0.8620\n",
            "Epoch 9/20\n",
            "94/94 [==============================] - 8s 89ms/step - loss: 0.0454 - accuracy: 0.9827 - val_loss: 0.6635 - val_accuracy: 0.8570\n",
            "Epoch 10/20\n",
            "94/94 [==============================] - 8s 81ms/step - loss: 0.0218 - accuracy: 0.9917 - val_loss: 0.7573 - val_accuracy: 0.8660\n",
            "Epoch 11/20\n",
            "94/94 [==============================] - 8s 86ms/step - loss: 0.0625 - accuracy: 0.9760 - val_loss: 0.7006 - val_accuracy: 0.8540\n",
            "Epoch 12/20\n",
            "94/94 [==============================] - 8s 80ms/step - loss: 0.0158 - accuracy: 0.9950 - val_loss: 0.8309 - val_accuracy: 0.8630\n",
            "Epoch 13/20\n",
            "94/94 [==============================] - 9s 94ms/step - loss: 0.0088 - accuracy: 0.9970 - val_loss: 0.9306 - val_accuracy: 0.8560\n",
            "Epoch 14/20\n",
            "94/94 [==============================] - 9s 91ms/step - loss: 0.0018 - accuracy: 1.0000 - val_loss: 1.0132 - val_accuracy: 0.8600\n",
            "Epoch 15/20\n",
            "94/94 [==============================] - 8s 84ms/step - loss: 6.6009e-04 - accuracy: 1.0000 - val_loss: 0.9891 - val_accuracy: 0.8650\n",
            "Epoch 16/20\n",
            "94/94 [==============================] - 9s 92ms/step - loss: 3.2701e-04 - accuracy: 1.0000 - val_loss: 1.0109 - val_accuracy: 0.8640\n",
            "Epoch 17/20\n",
            "94/94 [==============================] - 8s 86ms/step - loss: 2.4680e-04 - accuracy: 1.0000 - val_loss: 1.0464 - val_accuracy: 0.8630\n",
            "Epoch 18/20\n",
            "94/94 [==============================] - 9s 97ms/step - loss: 1.9988e-04 - accuracy: 1.0000 - val_loss: 1.0665 - val_accuracy: 0.8660\n",
            "Epoch 19/20\n",
            "94/94 [==============================] - 9s 92ms/step - loss: 1.6956e-04 - accuracy: 1.0000 - val_loss: 1.0783 - val_accuracy: 0.8650\n",
            "Epoch 20/20\n",
            "94/94 [==============================] - 8s 84ms/step - loss: 1.4377e-04 - accuracy: 1.0000 - val_loss: 1.0976 - val_accuracy: 0.8650\n"
          ]
        },
        {
          "output_type": "stream",
          "name": "stderr",
          "text": [
            "/usr/local/lib/python3.10/dist-packages/keras/src/engine/training.py:3000: UserWarning: You are saving your model as an HDF5 file via `model.save()`. This file format is considered legacy. We recommend using instead the native Keras format, e.g. `model.save('my_model.keras')`.\n",
            "  saving_api.save_model(\n"
          ]
        }
      ]
    },
    {
      "cell_type": "code",
      "source": [
        "# Evaluate the VGG16-based model on the test set\n",
        "y_true_vgg16 = test_generator.classes\n",
        "y_pred_vgg16 = (model_vgg16.predict(test_generator) > 0.5).astype(\"int32\")\n",
        "\n",
        "# Calculate evaluation metrics for VGG16-based model\n",
        "accuracy_vgg16 = accuracy_score(y_true_vgg16, y_pred_vgg16)\n",
        "f1_vgg16 = f1_score(y_true_vgg16, y_pred_vgg16)\n",
        "recall_vgg16 = recall_score(y_true_vgg16, y_pred_vgg16)\n",
        "confusion_vgg16 = confusion_matrix(y_true_vgg16, y_pred_vgg16)\n",
        "\n",
        "# Print evaluation metrics for VGG16-based model\n",
        "print(\"VGG16 Fine-Tuning Results:\")\n",
        "print(f\"Accuracy: {accuracy_vgg16:.2f}\")\n",
        "print(f\"F1 Score: {f1_vgg16:.2f}\")\n",
        "print(f\"Recall: {recall_vgg16:.2f}\")\n",
        "print(\"Confusion Matrix:\")\n",
        "print(confusion_vgg16)\n",
        "\n",
        "# Plot confusion matrix for VGG16-based model\n",
        "plt.figure(figsize=(8, 6))\n",
        "plt.imshow(confusion_vgg16, cmap=plt.cm.Blues)\n",
        "plt.title(\"VGG16 Fine-Tuning Confusion Matrix\")\n",
        "plt.colorbar()\n",
        "plt.xlabel(\"Predicted Labels\")\n",
        "plt.ylabel(\"True Labels\")\n",
        "plt.xticks([0, 1], ['Female', 'Male'])\n",
        "plt.yticks([0, 1], ['Female', 'Male'])\n",
        "for i in range(2):\n",
        "    for j in range(2):\n",
        "        plt.text(j, i, str(confusion_vgg16[i, j]), ha='center', va='center', color='red', fontsize=18)\n",
        "plt.show()"
      ],
      "metadata": {
        "colab": {
          "base_uri": "https://localhost:8080/",
          "height": 703
        },
        "id": "ky4-PddoMCct",
        "outputId": "4dabcfbc-7d64-4241-ab88-ecc049458d02"
      },
      "execution_count": 12,
      "outputs": [
        {
          "output_type": "stream",
          "name": "stdout",
          "text": [
            "32/32 [==============================] - 2s 61ms/step\n",
            "VGG16 Fine-Tuning Results:\n",
            "Accuracy: 0.84\n",
            "F1 Score: 0.81\n",
            "Recall: 0.80\n",
            "Confusion Matrix:\n",
            "[[516  75]\n",
            " [ 82 327]]\n"
          ]
        },
        {
          "output_type": "display_data",
          "data": {
            "text/plain": [
              "<Figure size 800x600 with 2 Axes>"
            ],
            "image/png": "[encoded data removed]"
          },
          "metadata": {}
        }
      ]
    },
    {
      "cell_type": "code",
      "source": [],
      "metadata": {
        "id": "EAEYpeetMCZW"
      },
      "execution_count": null,
      "outputs": []
    },
    {
      "cell_type": "code",
      "source": [],
      "metadata": {
        "id": "OW4QCedCMCW_"
      },
      "execution_count": null,
      "outputs": []
    }
  ]
}